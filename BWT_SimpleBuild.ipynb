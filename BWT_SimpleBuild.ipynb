{
  "nbformat": 4,
  "nbformat_minor": 0,
  "metadata": {
    "kernelspec": {
      "display_name": "Python 3",
      "language": "python",
      "name": "python3"
    },
    "language_info": {
      "codemirror_mode": {
        "name": "ipython",
        "version": 3
      },
      "file_extension": ".py",
      "mimetype": "text/x-python",
      "name": "python",
      "nbconvert_exporter": "python",
      "pygments_lexer": "ipython3",
      "version": "3.6.2"
    },
    "colab": {
      "name": "Copy of CG_BWT_SimpleBuild.ipynb",
      "provenance": [],
      "include_colab_link": true
    }
  },
  "cells": [
    {
      "cell_type": "markdown",
      "metadata": {
        "id": "view-in-github",
        "colab_type": "text"
      },
      "source": [
        "<a href=\"https://colab.research.google.com/github/dby-tmwctw/LinearSolverImpl/blob/master/BWT_SimpleBuild.ipynb\" target=\"_parent\"><img src=\"https://colab.research.google.com/assets/colab-badge.svg\" alt=\"Open In Colab\"/></a>"
      ]
    },
    {
      "cell_type": "code",
      "metadata": {
        "id": "Q81AjCO7ctfx"
      },
      "source": [
        "def rotations(t):\n",
        "    # Return list of rotations of input string t\n",
        "    tt = t * 2\n",
        "    return [ tt[i:i+len(t)] for i in range(len(t)) ]"
      ],
      "execution_count": null,
      "outputs": []
    },
    {
      "cell_type": "code",
      "metadata": {
        "id": "G5G9lcrJctf3",
        "outputId": "a66f1170-2b93-42da-aa11-c28e63a7bb73",
        "colab": {
          "base_uri": "https://localhost:8080/",
          "height": 34
        }
      },
      "source": [
        "rotations('cat')"
      ],
      "execution_count": null,
      "outputs": [
        {
          "output_type": "execute_result",
          "data": {
            "text/plain": [
              "['cat', 'atc', 'tca']"
            ]
          },
          "metadata": {
            "tags": []
          },
          "execution_count": 3
        }
      ]
    },
    {
      "cell_type": "code",
      "metadata": {
        "id": "ZNWkKZiActf7"
      },
      "source": [
        "def bwm(t):\n",
        "    # Return lexicographically sorted list of t’s rotations\n",
        "    return sorted(rotations(t))"
      ],
      "execution_count": null,
      "outputs": []
    },
    {
      "cell_type": "code",
      "metadata": {
        "id": "wl4wg44Pctf_",
        "outputId": "58be497b-7796-41d9-863c-cb1a0d4b5b92",
        "colab": {
          "base_uri": "https://localhost:8080/",
          "height": 34
        }
      },
      "source": [
        "bwm('abaaba$')"
      ],
      "execution_count": null,
      "outputs": [
        {
          "output_type": "execute_result",
          "data": {
            "text/plain": [
              "['$abaaba', 'a$abaab', 'aaba$ab', 'aba$aba', 'abaaba$', 'ba$abaa', 'baaba$a']"
            ]
          },
          "metadata": {
            "tags": []
          },
          "execution_count": 9
        }
      ]
    },
    {
      "cell_type": "code",
      "metadata": {
        "id": "js9bN3DjctgD",
        "outputId": "17312a56-4840-4581-98a7-80831e1074ad",
        "colab": {
          "base_uri": "https://localhost:8080/",
          "height": 136
        }
      },
      "source": [
        "print('\\n'.join(bwm('aaaaaa$')))"
      ],
      "execution_count": null,
      "outputs": [
        {
          "output_type": "stream",
          "text": [
            "$aaaaaa\n",
            "a$aaaaa\n",
            "aa$aaaa\n",
            "aaa$aaa\n",
            "aaaa$aa\n",
            "aaaaa$a\n",
            "aaaaaa$\n"
          ],
          "name": "stdout"
        }
      ]
    },
    {
      "cell_type": "code",
      "metadata": {
        "id": "riR2TohzctgG"
      },
      "source": [
        "def bwtViaBwm(t):\n",
        "    # Given T, returns BWT(T) by way of the BWM\n",
        "    return ''.join(map(lambda x: x[-1], bwm(t)))"
      ],
      "execution_count": null,
      "outputs": []
    },
    {
      "cell_type": "code",
      "metadata": {
        "id": "hqZL4eHXctgJ",
        "outputId": "cbe8c612-4633-4c4a-ff47-f3b0d16bda8e",
        "colab": {
          "base_uri": "https://localhost:8080/",
          "height": 35
        }
      },
      "source": [
        "bwtViaBwm('abaaba$') # we can see the result equals the last column of the matrix above"
      ],
      "execution_count": null,
      "outputs": [
        {
          "output_type": "execute_result",
          "data": {
            "application/vnd.google.colaboratory.intrinsic+json": {
              "type": "string"
            },
            "text/plain": [
              "'abba$aa'"
            ]
          },
          "metadata": {
            "tags": []
          },
          "execution_count": 13
        }
      ]
    },
    {
      "cell_type": "code",
      "metadata": {
        "id": "7w9EH5OFctgP"
      },
      "source": [
        "def suffixArray(s):\n",
        "    satups = sorted([(s[i:], i) for i in range(len(s))])\n",
        "    return map(lambda x: x[1], satups)\n",
        "\n",
        "def bwtViaSa(t):\n",
        "    # Given T, returns BWT(T) by way of the suffix array\n",
        "    bw = []\n",
        "    for si in suffixArray(t):\n",
        "        if si == 0:\n",
        "            bw.append('$')\n",
        "        else:\n",
        "            bw.append(t[si-1])\n",
        "    return ''.join(bw) # return string-ized version of list bw"
      ],
      "execution_count": null,
      "outputs": []
    },
    {
      "cell_type": "code",
      "metadata": {
        "id": "kz5-49RYctgS",
        "outputId": "3626595e-c8db-4eee-a149-ab670e5d5f62"
      },
      "source": [
        "bwtViaBwm('abaaba$'), bwtViaSa('abaaba$') # same result"
      ],
      "execution_count": null,
      "outputs": [
        {
          "output_type": "execute_result",
          "data": {
            "text/plain": [
              "('abba$aa', 'abba$aa')"
            ]
          },
          "metadata": {
            "tags": []
          },
          "execution_count": 9
        }
      ]
    }
  ]
}